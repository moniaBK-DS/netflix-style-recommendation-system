{
 "cells": [
  {
   "cell_type": "markdown",
   "id": "8cd49ead-ab38-4bb8-b982-80d573206ce1",
   "metadata": {},
   "source": [
    "SQL Exercise: Average View Time Per Video, Ranked by Category"
   ]
  },
  {
   "cell_type": "code",
   "execution_count": 1,
   "id": "c2011612-7557-4b92-9c83-ea1e2d0c813c",
   "metadata": {},
   "outputs": [],
   "source": [
    "import sqlite3\n",
    "import pandas as pd"
   ]
  },
  {
   "cell_type": "markdown",
   "id": "321461cd-71bf-435d-a468-e5b74ca3fb89",
   "metadata": {},
   "source": [
    "SCHEMA DESCRIPTION : "
   ]
  },
  {
   "cell_type": "code",
   "execution_count": 2,
   "id": "3b7b7fe6-ab96-432b-99a4-1f9ac3e68c47",
   "metadata": {},
   "outputs": [
    {
     "data": {
      "text/plain": [
       "<sqlite3.Cursor at 0x1227550c0>"
      ]
     },
     "execution_count": 2,
     "metadata": {},
     "output_type": "execute_result"
    }
   ],
   "source": [
    "# Create in-memory SQLite database\n",
    "conn = sqlite3.connect(\":memory:\")\n",
    "cursor = conn.cursor()\n",
    "\n",
    "# Create tables and insert sample data\n",
    "cursor.executescript(\"\"\"\n",
    "CREATE TABLE video_views (\n",
    "  viewer_id INT,\n",
    "  video_id INT,\n",
    "  view_time INT,\n",
    "  view_date TEXT\n",
    ");\n",
    "\n",
    "CREATE TABLE videos (\n",
    "  video_id INT,\n",
    "  category TEXT\n",
    ");\n",
    "\n",
    "INSERT INTO video_views VALUES\n",
    "(1, 101, 120, '2024-01-01'),\n",
    "(2, 101, 150, '2024-01-01'),\n",
    "(3, 102, 300, '2024-01-01'),\n",
    "(4, 103, 200, '2024-01-01'),\n",
    "(5, 104, 50,  '2024-01-01'),\n",
    "(6, 102, 250, '2024-01-02'),\n",
    "(7, 104, 80,  '2024-01-02'),\n",
    "(8, 105, 100, '2024-01-02'),\n",
    "(9, 102, 200, '2024-01-03'),\n",
    "(10, 104, 300,'2024-01-03');\n",
    "\n",
    "INSERT INTO videos VALUES\n",
    "(101, 'Music'),\n",
    "(102, 'Education'),\n",
    "(103, 'Gaming'),\n",
    "(104, 'Music'),\n",
    "(105, 'News');\n",
    "\"\"\")\n"
   ]
  },
  {
   "cell_type": "markdown",
   "id": "4192b1fc-45c4-401d-8419-9df2e8be0173",
   "metadata": {},
   "source": [
    "VISUALIZING TABLES"
   ]
  },
  {
   "cell_type": "code",
   "execution_count": 6,
   "id": "3274aa65-80c8-48e8-a1db-040611c16242",
   "metadata": {},
   "outputs": [
    {
     "data": {
      "text/html": [
       "<div>\n",
       "<style scoped>\n",
       "    .dataframe tbody tr th:only-of-type {\n",
       "        vertical-align: middle;\n",
       "    }\n",
       "\n",
       "    .dataframe tbody tr th {\n",
       "        vertical-align: top;\n",
       "    }\n",
       "\n",
       "    .dataframe thead th {\n",
       "        text-align: right;\n",
       "    }\n",
       "</style>\n",
       "<table border=\"1\" class=\"dataframe\">\n",
       "  <thead>\n",
       "    <tr style=\"text-align: right;\">\n",
       "      <th></th>\n",
       "      <th>viewer_id</th>\n",
       "      <th>video_id</th>\n",
       "      <th>view_time</th>\n",
       "      <th>view_date</th>\n",
       "    </tr>\n",
       "  </thead>\n",
       "  <tbody>\n",
       "    <tr>\n",
       "      <th>0</th>\n",
       "      <td>1</td>\n",
       "      <td>101</td>\n",
       "      <td>120</td>\n",
       "      <td>2024-01-01</td>\n",
       "    </tr>\n",
       "    <tr>\n",
       "      <th>1</th>\n",
       "      <td>2</td>\n",
       "      <td>101</td>\n",
       "      <td>150</td>\n",
       "      <td>2024-01-01</td>\n",
       "    </tr>\n",
       "    <tr>\n",
       "      <th>2</th>\n",
       "      <td>3</td>\n",
       "      <td>102</td>\n",
       "      <td>300</td>\n",
       "      <td>2024-01-01</td>\n",
       "    </tr>\n",
       "    <tr>\n",
       "      <th>3</th>\n",
       "      <td>4</td>\n",
       "      <td>103</td>\n",
       "      <td>200</td>\n",
       "      <td>2024-01-01</td>\n",
       "    </tr>\n",
       "    <tr>\n",
       "      <th>4</th>\n",
       "      <td>5</td>\n",
       "      <td>104</td>\n",
       "      <td>50</td>\n",
       "      <td>2024-01-01</td>\n",
       "    </tr>\n",
       "    <tr>\n",
       "      <th>5</th>\n",
       "      <td>6</td>\n",
       "      <td>102</td>\n",
       "      <td>250</td>\n",
       "      <td>2024-01-02</td>\n",
       "    </tr>\n",
       "    <tr>\n",
       "      <th>6</th>\n",
       "      <td>7</td>\n",
       "      <td>104</td>\n",
       "      <td>80</td>\n",
       "      <td>2024-01-02</td>\n",
       "    </tr>\n",
       "    <tr>\n",
       "      <th>7</th>\n",
       "      <td>8</td>\n",
       "      <td>105</td>\n",
       "      <td>100</td>\n",
       "      <td>2024-01-02</td>\n",
       "    </tr>\n",
       "    <tr>\n",
       "      <th>8</th>\n",
       "      <td>9</td>\n",
       "      <td>102</td>\n",
       "      <td>200</td>\n",
       "      <td>2024-01-03</td>\n",
       "    </tr>\n",
       "    <tr>\n",
       "      <th>9</th>\n",
       "      <td>10</td>\n",
       "      <td>104</td>\n",
       "      <td>300</td>\n",
       "      <td>2024-01-03</td>\n",
       "    </tr>\n",
       "  </tbody>\n",
       "</table>\n",
       "</div>"
      ],
      "text/plain": [
       "   viewer_id  video_id  view_time   view_date\n",
       "0          1       101        120  2024-01-01\n",
       "1          2       101        150  2024-01-01\n",
       "2          3       102        300  2024-01-01\n",
       "3          4       103        200  2024-01-01\n",
       "4          5       104         50  2024-01-01\n",
       "5          6       102        250  2024-01-02\n",
       "6          7       104         80  2024-01-02\n",
       "7          8       105        100  2024-01-02\n",
       "8          9       102        200  2024-01-03\n",
       "9         10       104        300  2024-01-03"
      ]
     },
     "execution_count": 6,
     "metadata": {},
     "output_type": "execute_result"
    }
   ],
   "source": [
    "query_table1 = \"\"\"\n",
    "select * from video_views\n",
    "\"\"\"\n",
    "query_table2 = \"\"\"\n",
    "select * from videos\n",
    "\"\"\"\n",
    "res_table1 = pd.read_sql_query(query_table1, conn)\n",
    "res_table1"
   ]
  },
  {
   "cell_type": "code",
   "execution_count": 7,
   "id": "bee59147-14fc-49ef-8493-f991555aaad7",
   "metadata": {},
   "outputs": [
    {
     "data": {
      "text/html": [
       "<div>\n",
       "<style scoped>\n",
       "    .dataframe tbody tr th:only-of-type {\n",
       "        vertical-align: middle;\n",
       "    }\n",
       "\n",
       "    .dataframe tbody tr th {\n",
       "        vertical-align: top;\n",
       "    }\n",
       "\n",
       "    .dataframe thead th {\n",
       "        text-align: right;\n",
       "    }\n",
       "</style>\n",
       "<table border=\"1\" class=\"dataframe\">\n",
       "  <thead>\n",
       "    <tr style=\"text-align: right;\">\n",
       "      <th></th>\n",
       "      <th>video_id</th>\n",
       "      <th>category</th>\n",
       "    </tr>\n",
       "  </thead>\n",
       "  <tbody>\n",
       "    <tr>\n",
       "      <th>0</th>\n",
       "      <td>101</td>\n",
       "      <td>Music</td>\n",
       "    </tr>\n",
       "    <tr>\n",
       "      <th>1</th>\n",
       "      <td>102</td>\n",
       "      <td>Education</td>\n",
       "    </tr>\n",
       "    <tr>\n",
       "      <th>2</th>\n",
       "      <td>103</td>\n",
       "      <td>Gaming</td>\n",
       "    </tr>\n",
       "    <tr>\n",
       "      <th>3</th>\n",
       "      <td>104</td>\n",
       "      <td>Music</td>\n",
       "    </tr>\n",
       "    <tr>\n",
       "      <th>4</th>\n",
       "      <td>105</td>\n",
       "      <td>News</td>\n",
       "    </tr>\n",
       "  </tbody>\n",
       "</table>\n",
       "</div>"
      ],
      "text/plain": [
       "   video_id   category\n",
       "0       101      Music\n",
       "1       102  Education\n",
       "2       103     Gaming\n",
       "3       104      Music\n",
       "4       105       News"
      ]
     },
     "execution_count": 7,
     "metadata": {},
     "output_type": "execute_result"
    }
   ],
   "source": [
    "res_table2 = pd.read_sql_query(query_table2, conn)\n",
    "res_table2"
   ]
  },
  {
   "cell_type": "markdown",
   "id": "ab85cef0-7b4d-41fe-869b-478f1e4efc49",
   "metadata": {},
   "source": [
    "SOLUTION "
   ]
  },
  {
   "cell_type": "markdown",
   "id": "2a957fdd-b5b7-453b-b9e9-890a8b0cb41f",
   "metadata": {},
   "source": [
    "Strategie : <br>\n",
    "<br>\n",
    "For each category, calculate: <br>\n",
    "\n",
    "° The total view time <br>\n",
    "\n",
    "° The number of unique videos in that category <br>\n",
    "\n",
    "° The average view time per video <br>\n",
    "\n",
    "Then rank the categories by that average (highest to lowest). <br>"
   ]
  },
  {
   "cell_type": "code",
   "execution_count": 18,
   "id": "abe940f4-9cfe-4c2b-bf1b-acbccd3adab2",
   "metadata": {},
   "outputs": [
    {
     "data": {
      "text/html": [
       "<div>\n",
       "<style scoped>\n",
       "    .dataframe tbody tr th:only-of-type {\n",
       "        vertical-align: middle;\n",
       "    }\n",
       "\n",
       "    .dataframe tbody tr th {\n",
       "        vertical-align: top;\n",
       "    }\n",
       "\n",
       "    .dataframe thead th {\n",
       "        text-align: right;\n",
       "    }\n",
       "</style>\n",
       "<table border=\"1\" class=\"dataframe\">\n",
       "  <thead>\n",
       "    <tr style=\"text-align: right;\">\n",
       "      <th></th>\n",
       "      <th>category</th>\n",
       "      <th>total_view_time</th>\n",
       "      <th>num_videos</th>\n",
       "      <th>avg_view_time</th>\n",
       "    </tr>\n",
       "  </thead>\n",
       "  <tbody>\n",
       "    <tr>\n",
       "      <th>0</th>\n",
       "      <td>Education</td>\n",
       "      <td>750</td>\n",
       "      <td>1</td>\n",
       "      <td>750.0</td>\n",
       "    </tr>\n",
       "    <tr>\n",
       "      <th>1</th>\n",
       "      <td>Music</td>\n",
       "      <td>700</td>\n",
       "      <td>2</td>\n",
       "      <td>350.0</td>\n",
       "    </tr>\n",
       "    <tr>\n",
       "      <th>2</th>\n",
       "      <td>Gaming</td>\n",
       "      <td>200</td>\n",
       "      <td>1</td>\n",
       "      <td>200.0</td>\n",
       "    </tr>\n",
       "    <tr>\n",
       "      <th>3</th>\n",
       "      <td>News</td>\n",
       "      <td>100</td>\n",
       "      <td>1</td>\n",
       "      <td>100.0</td>\n",
       "    </tr>\n",
       "  </tbody>\n",
       "</table>\n",
       "</div>"
      ],
      "text/plain": [
       "    category  total_view_time  num_videos  avg_view_time\n",
       "0  Education              750           1          750.0\n",
       "1      Music              700           2          350.0\n",
       "2     Gaming              200           1          200.0\n",
       "3       News              100           1          100.0"
      ]
     },
     "execution_count": 18,
     "metadata": {},
     "output_type": "execute_result"
    }
   ],
   "source": [
    "query_sol = \"\"\"\n",
    "select v.category, sum(vv.view_time) as total_view_time, count(distinct vv.video_id) as num_videos, \n",
    "cast(sum(vv.view_time) as float)/ count(distinct vv.video_id) as avg_view_time\n",
    "from video_views vv\n",
    "join videos v on v.video_id = vv.video_id\n",
    "group by v.category \n",
    "order by avg_view_time desc\n",
    "\"\"\"\n",
    "\n",
    "res_query_sol = pd.read_sql_query(query_sol, conn)\n",
    "res_query_sol"
   ]
  },
  {
   "cell_type": "code",
   "execution_count": null,
   "id": "3a7a46f2-e1f4-4499-9fd8-383933634a75",
   "metadata": {},
   "outputs": [],
   "source": []
  }
 ],
 "metadata": {
  "kernelspec": {
   "display_name": "Python 3 (ipykernel)",
   "language": "python",
   "name": "python3"
  },
  "language_info": {
   "codemirror_mode": {
    "name": "ipython",
    "version": 3
   },
   "file_extension": ".py",
   "mimetype": "text/x-python",
   "name": "python",
   "nbconvert_exporter": "python",
   "pygments_lexer": "ipython3",
   "version": "3.13.2"
  }
 },
 "nbformat": 4,
 "nbformat_minor": 5
}
