{
 "cells": [
  {
   "cell_type": "code",
   "execution_count": 7,
   "id": "4ee8182f-58d0-4052-8873-ced05f109126",
   "metadata": {},
   "outputs": [],
   "source": [
    "from collections import Counter"
   ]
  },
  {
   "cell_type": "markdown",
   "id": "cb1e216b-8dd1-4921-83ea-2e3c39d63e42",
   "metadata": {},
   "source": [
    "Input: nums = [1,1,1,2,2,3], k = 2 <br>\n",
    "Output: [1,2]"
   ]
  },
  {
   "cell_type": "markdown",
   "id": "8cdcdb4c-95f6-4622-b73d-400a61f12c76",
   "metadata": {},
   "source": [
    "First Solution"
   ]
  },
  {
   "cell_type": "code",
   "execution_count": 10,
   "id": "cd3442a4-b98c-4a61-b896-f844527344f3",
   "metadata": {},
   "outputs": [
    {
     "name": "stdout",
     "output_type": "stream",
     "text": [
      "[1, 2]\n"
     ]
    }
   ],
   "source": [
    "nums = [1,1,1,2,2,3]\n",
    "k = 2\n",
    "\n",
    "def topKFrequent(nums, k):\n",
    "    \n",
    "    col = Counter(nums) # ({1:3, 2:2, 3:1})\n",
    "    counts = col.most_common() #sorting the values in the dict by occurence\n",
    "    res = []\n",
    "\n",
    "    for i in counts:\n",
    "        if k > 0:\n",
    "            res.append(i[0])\n",
    "            k -= 1\n",
    "\n",
    "    return res\n",
    "\n",
    "print(topKFrequent(nums, k))"
   ]
  },
  {
   "cell_type": "markdown",
   "id": "20aa77ed-37ef-4be0-b3eb-b16f68295f01",
   "metadata": {},
   "source": [
    "Second Solution (without using most_common())"
   ]
  },
  {
   "cell_type": "code",
   "execution_count": 13,
   "id": "87d035d5-65bb-466d-8b06-a4376b5640b3",
   "metadata": {},
   "outputs": [
    {
     "name": "stdout",
     "output_type": "stream",
     "text": [
      "[2, 1]\n"
     ]
    }
   ],
   "source": [
    "import heapq\n",
    "\n",
    "nums = [1,1,1,2,2,3]\n",
    "k = 2\n",
    "\n",
    "def topKFrequent(nums, k):\n",
    "\n",
    "    col = Counter(nums)\n",
    "    min_heap = [] # is going to be the list of our number-frequency\n",
    "\n",
    "    for n, freq in col.items(): # for every number-frequency in the dictionary\n",
    "        heapq.heappush(min_heap, (freq, n)) # let's heap push into the list [min_heap] the frequency and the number (as a tuple)\n",
    "        if len(min_heap) > k: # if it happens that we're pushing more than the number we wanna return, \n",
    "            heapq.heappop(min_heap) # we're popping the minimum frequency so our list is always going to be the lenth we want (k) with the highest frequencies in it \n",
    "\n",
    "    return [n for freq, n in min_heap] # for every freq-number couple, let's only return a the number -> and let's return in [as a list]\n",
    "        \n",
    "\n",
    "print(topKFrequent(nums, k))"
   ]
  },
  {
   "cell_type": "code",
   "execution_count": null,
   "id": "ba0e36dc-1cc2-4a66-9c7a-8a003fe40f94",
   "metadata": {},
   "outputs": [],
   "source": []
  }
 ],
 "metadata": {
  "kernelspec": {
   "display_name": "Python 3 (ipykernel)",
   "language": "python",
   "name": "python3"
  },
  "language_info": {
   "codemirror_mode": {
    "name": "ipython",
    "version": 3
   },
   "file_extension": ".py",
   "mimetype": "text/x-python",
   "name": "python",
   "nbconvert_exporter": "python",
   "pygments_lexer": "ipython3",
   "version": "3.13.2"
  }
 },
 "nbformat": 4,
 "nbformat_minor": 5
}
