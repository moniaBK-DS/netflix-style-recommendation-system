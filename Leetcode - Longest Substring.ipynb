{
 "cells": [
  {
   "cell_type": "code",
   "execution_count": 4,
   "id": "4fe83bf2-5b45-414a-baf0-2d7c73d0e5c9",
   "metadata": {},
   "outputs": [
    {
     "name": "stdout",
     "output_type": "stream",
     "text": [
      "Current enumeration :  0 p \n",
      "seen Dictionary (1) =  {} \n",
      "start =  0\n",
      "max_len =  1\n",
      "seen[char] =  0\n",
      "seen Dictionary (2) =  {'p': 0} \n",
      "\n",
      "\n",
      "Current enumeration :  1 w \n",
      "seen Dictionary (1) =  {'p': 0} \n",
      "start =  0\n",
      "max_len =  2\n",
      "seen[char] =  1\n",
      "seen Dictionary (2) =  {'p': 0, 'w': 1} \n",
      "\n",
      "\n",
      "Current enumeration :  2 w \n",
      "seen Dictionary (1) =  {'p': 0, 'w': 1} \n",
      "start =  0\n",
      "max_len =  2\n",
      "seen[char] =  2\n",
      "seen Dictionary (2) =  {'p': 0, 'w': 2} \n",
      "\n",
      "\n",
      "Current enumeration :  3 k \n",
      "seen Dictionary (1) =  {'p': 0, 'w': 2} \n",
      "start =  2\n",
      "max_len =  2\n",
      "seen[char] =  3\n",
      "seen Dictionary (2) =  {'p': 0, 'w': 2, 'k': 3} \n",
      "\n",
      "\n",
      "Current enumeration :  4 e \n",
      "seen Dictionary (1) =  {'p': 0, 'w': 2, 'k': 3} \n",
      "start =  2\n",
      "max_len =  3\n",
      "seen[char] =  4\n",
      "seen Dictionary (2) =  {'p': 0, 'w': 2, 'k': 3, 'e': 4} \n",
      "\n",
      "\n",
      "Current enumeration :  5 w \n",
      "seen Dictionary (1) =  {'p': 0, 'w': 2, 'k': 3, 'e': 4} \n",
      "start =  2\n",
      "max_len =  3\n",
      "seen[char] =  5\n",
      "seen Dictionary (2) =  {'p': 0, 'w': 5, 'k': 3, 'e': 4} \n",
      "\n",
      "\n"
     ]
    }
   ],
   "source": [
    "s = \"pwwkew\"\n",
    "seen = {}\n",
    "start = 0\n",
    "max_len = 0\n",
    "\n",
    "for i, char in enumerate(s):\n",
    "    print(\"Current enumeration : \", i, char, \"\\nseen Dictionary (1) = \", seen, \"\\nstart = \", start)\n",
    "    \n",
    "    if char in seen and seen[char] >= start:\n",
    "        start = seen[char] + 1\n",
    "        \n",
    "    max_len = max(max_len, i - start + 1)\n",
    "    print(\"max_len = \", max_len)\n",
    "    \n",
    "    seen[char] = i \n",
    "    print(\"seen[char] = \", seen[char])\n",
    "    print(\"seen Dictionary (2) = \", seen, \"\\n\\n\")\n"
   ]
  },
  {
   "cell_type": "code",
   "execution_count": null,
   "id": "faee9519-0c0a-4147-88e6-b91b0412b419",
   "metadata": {},
   "outputs": [],
   "source": []
  }
 ],
 "metadata": {
  "kernelspec": {
   "display_name": "Python 3 (ipykernel)",
   "language": "python",
   "name": "python3"
  },
  "language_info": {
   "codemirror_mode": {
    "name": "ipython",
    "version": 3
   },
   "file_extension": ".py",
   "mimetype": "text/x-python",
   "name": "python",
   "nbconvert_exporter": "python",
   "pygments_lexer": "ipython3",
   "version": "3.13.2"
  }
 },
 "nbformat": 4,
 "nbformat_minor": 5
}
