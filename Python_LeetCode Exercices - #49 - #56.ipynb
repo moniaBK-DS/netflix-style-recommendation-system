{
 "cells": [
  {
   "cell_type": "code",
   "execution_count": 3,
   "id": "7c9fb3c7-038d-4c72-a53b-8f1ee854a3a4",
   "metadata": {},
   "outputs": [
    {
     "name": "stdout",
     "output_type": "stream",
     "text": [
      "0 2\n",
      "1 7\n",
      "2 11\n",
      "3 15\n"
     ]
    }
   ],
   "source": [
    "nums = [2, 7, 11, 15]\n",
    "target = 9\n",
    "\n",
    "for index, num in enumerate(nums):\n",
    "    comp = target - num\n",
    "    if comp in nums"
   ]
  },
  {
   "cell_type": "code",
   "execution_count": 6,
   "id": "3252eb73-41d8-4526-8950-43571a960061",
   "metadata": {},
   "outputs": [
    {
     "name": "stdout",
     "output_type": "stream",
     "text": [
      "[['eat', 'tea', 'ate'], ['tan', 'nat'], ['bat']]\n"
     ]
    }
   ],
   "source": [
    "# EXERCISE N°49\n",
    "\n",
    "from collections import defaultdict\n",
    "\n",
    "strs = [\"eat\", \"tea\", \"tan\", \"ate\", \"nat\", \"bat\"]\n",
    "\n",
    "anagram_map = defaultdict(list) #so each key is a list\n",
    "\n",
    "def groupAnagrams(strs):\n",
    "    for word in strs:\n",
    "        cnt = [0] * 26\n",
    "        for char in word:\n",
    "            index = ord(char) - ord('a') # char = 'e', index of e = 101 - 97 = 4 \n",
    "            cnt[index] += 1 # e will look like cnt[4] = 1 => [0,0,0,0,1,0,0,0...] \n",
    "    \n",
    "        key = tuple(cnt) # the key for the dictionary for this anagram is now 0s and 1s mapped on the alphabet order\n",
    "    \n",
    "        anagram_map[key].append(word) #now we can gather all the same maps together in the dictionary\n",
    "\n",
    "    return list(anagram_map.values()) #we need to return a list of our lists of values grouped together\n",
    "\n",
    "print(groupAnagrams(strs))"
   ]
  },
  {
   "cell_type": "code",
   "execution_count": 14,
   "id": "953e2ca7-17e3-4413-877a-d6405480067d",
   "metadata": {},
   "outputs": [
    {
     "name": "stdout",
     "output_type": "stream",
     "text": [
      "[[1, 6], [8, 10], [15, 18]]\n"
     ]
    }
   ],
   "source": [
    "# EXERCISE N°56\n",
    "\n",
    "intervals = [[1,3],[2,6],[8,10],[15,18]]\n",
    "\n",
    "def merge(intervals):\n",
    "    intervals = sorted(intervals) #sorting the intervals so we can consider their limits left to right\n",
    "    merged = [] # initializing a list of merged intervals\n",
    "\n",
    "    for i in intervals: # going through intervals one by one to compare them\n",
    "        if not merged or merged[-1][1] < i[0]: #if merge is empty OR the outer limit of the last interval is smaller than the current inner limit \n",
    "            merged.append(i) #put the interval as is in the list of intervals merged\n",
    "        else:\n",
    "            merged[-1][1] = max(merged[-1][1], i[1]) # else make sure that the nex outer value of the previous interval is now the max between the previous outer limit, and the outer limit of the current one\n",
    "\n",
    "    return merged # return the new list of intervals \n",
    "            \n",
    "\n",
    "print(merge(intervals))"
   ]
  },
  {
   "cell_type": "code",
   "execution_count": null,
   "id": "011e2998-0692-4316-8a3e-572863d07236",
   "metadata": {},
   "outputs": [],
   "source": []
  }
 ],
 "metadata": {
  "kernelspec": {
   "display_name": "Python 3 (ipykernel)",
   "language": "python",
   "name": "python3"
  },
  "language_info": {
   "codemirror_mode": {
    "name": "ipython",
    "version": 3
   },
   "file_extension": ".py",
   "mimetype": "text/x-python",
   "name": "python",
   "nbconvert_exporter": "python",
   "pygments_lexer": "ipython3",
   "version": "3.13.2"
  }
 },
 "nbformat": 4,
 "nbformat_minor": 5
}
