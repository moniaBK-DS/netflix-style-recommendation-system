{
 "cells": [
  {
   "cell_type": "code",
   "execution_count": 1,
   "id": "74e6b300-7c91-41ec-a67c-9953701620ea",
   "metadata": {},
   "outputs": [
    {
     "name": "stdout",
     "output_type": "stream",
     "text": [
      "hello World!\n"
     ]
    }
   ],
   "source": [
    "print('hello World!')"
   ]
  },
  {
   "cell_type": "code",
   "execution_count": 6,
   "id": "ead07532-009c-4898-96ec-e91c4293ced1",
   "metadata": {},
   "outputs": [
    {
     "name": "stdout",
     "output_type": "stream",
     "text": [
      "1 and 2\n",
      "2 and 2\n",
      "1 and 2\n",
      "4 and 2\n",
      "False\n"
     ]
    }
   ],
   "source": [
    "from collections import Counter\n",
    "\n",
    "ransomNote = \"fihjjjjei\"\n",
    "magazine = \"hjibagacbhadfaefdjaeaebgi\"\n",
    "\n",
    "def canConstruct(ransomNote: str, magazine: str) -> bool:\n",
    "        ran = Counter(ransomNote)\n",
    "        mag = Counter(magazine)\n",
    "\n",
    "        for i in ran:\n",
    "            print(ran[i], 'and', mag[i])\n",
    "            if i in mag and ran[i] <= mag[i]:\n",
    "                continue\n",
    "            else: \n",
    "                return False\n",
    "\n",
    "        return True\n",
    "                \n",
    "                \n",
    "print(canConstruct(ransomNote, magazine))"
   ]
  },
  {
   "cell_type": "code",
   "execution_count": 18,
   "id": "2fd619a0-6fad-4183-a170-e0b71a492c3c",
   "metadata": {},
   "outputs": [
    {
     "name": "stdout",
     "output_type": "stream",
     "text": [
      "[['eat'], ['tea'], ['tan'], ['ate'], ['nat'], ['bat']]\n"
     ]
    }
   ],
   "source": [
    "counter1 = Counter({'a': 1, 'b': 2, 'c': 3})\n",
    "counter2 = Counter({'b': 2, 'a': 1, 'c': 3})\n",
    "counter3 = Counter({'a': 1, 'b': 3, 'c': 2})\n",
    "\n",
    "#print(counter1 == counter2) # Output: True\n",
    "#print(counter1 == counter3) # Output: False\n",
    "\n",
    "strs = [\"eat\",\"tea\",\"tan\",\"ate\",\"nat\",\"bat\"]\n",
    "\n",
    "ll = []\n",
    "for i in strs:\n",
    "    ll.append([i])\n",
    "\n",
    "print(ll)"
   ]
  },
  {
   "cell_type": "code",
   "execution_count": 24,
   "id": "bc2baead-38c2-4cdc-99c9-2bd07628a808",
   "metadata": {},
   "outputs": [
    {
     "name": "stdout",
     "output_type": "stream",
     "text": [
      "[Counter({'e': 1, 'a': 1, 't': 1}), Counter({'t': 1, 'e': 1, 'a': 1}), Counter({'t': 1, 'a': 1, 'n': 1}), Counter({'a': 1, 't': 1, 'e': 1}), Counter({'n': 1, 'a': 1, 't': 1}), Counter({'b': 1, 'a': 1, 't': 1})]\n",
      "Counter({'b': 1, 'a': 1, 't': 1})\n",
      "None\n"
     ]
    }
   ],
   "source": [
    "from typing import List\n",
    "\n",
    "strs = [\"eat\",\"tea\",\"tan\",\"ate\",\"nat\",\"bat\"]\n",
    "\n",
    "def groupAnagrams(strs: List[str]) -> List[List[str]]:\n",
    "\n",
    "    l = []\n",
    "    ll = []\n",
    "    for i in strs:\n",
    "        cnt = Counter(i)\n",
    "        l.append(cnt)\n",
    "\n",
    "    print(l)\n",
    "    \n",
    "    for i in l:\n",
    "        cnts = Counter(i)\n",
    "        \n",
    "        \n",
    "    print(cnts)\n",
    "\n",
    "\n",
    "print(groupAnagrams(strs))"
   ]
  },
  {
   "cell_type": "code",
   "execution_count": 34,
   "id": "7e989c55-f6ec-4797-9768-3a9c15fa2511",
   "metadata": {},
   "outputs": [
    {
     "ename": "TypeError",
     "evalue": "unhashable type: 'list'",
     "output_type": "error",
     "traceback": [
      "\u001b[0;31m---------------------------------------------------------------------------\u001b[0m",
      "\u001b[0;31mTypeError\u001b[0m                                 Traceback (most recent call last)",
      "Cell \u001b[0;32mIn[34], line 11\u001b[0m\n\u001b[1;32m      9\u001b[0m         ll[l]\u001b[38;5;241m.\u001b[39mappend(word)\n\u001b[1;32m     10\u001b[0m     \u001b[38;5;28mprint\u001b[39m(ll)\n\u001b[0;32m---> 11\u001b[0m \u001b[38;5;28mprint\u001b[39m(\u001b[43mgroupAnagrams\u001b[49m\u001b[43m(\u001b[49m\u001b[43mstrs\u001b[49m\u001b[43m)\u001b[49m)\n",
      "Cell \u001b[0;32mIn[34], line 5\u001b[0m, in \u001b[0;36mgroupAnagrams\u001b[0;34m(strs)\u001b[0m\n\u001b[1;32m      3\u001b[0m \u001b[38;5;28;01mdef\u001b[39;00m\u001b[38;5;250m \u001b[39m\u001b[38;5;21mgroupAnagrams\u001b[39m(strs: List[\u001b[38;5;28mstr\u001b[39m]) \u001b[38;5;241m-\u001b[39m\u001b[38;5;241m>\u001b[39m List[List[\u001b[38;5;28mstr\u001b[39m]]:\n\u001b[0;32m----> 5\u001b[0m     ll \u001b[38;5;241m=\u001b[39m {[]}\n\u001b[1;32m      6\u001b[0m     \u001b[38;5;28;01mfor\u001b[39;00m word \u001b[38;5;129;01min\u001b[39;00m strs:\n\u001b[1;32m      7\u001b[0m         l \u001b[38;5;241m=\u001b[39m \u001b[38;5;124m'\u001b[39m\u001b[38;5;124m'\u001b[39m\u001b[38;5;241m.\u001b[39mjoin(\u001b[38;5;28msorted\u001b[39m(word))\n",
      "\u001b[0;31mTypeError\u001b[0m: unhashable type: 'list'"
     ]
    }
   ],
   "source": [
    "strs = [\"eat\",\"tea\",\"tan\",\"ate\",\"nat\",\"bat\"]\n",
    "\n",
    "def groupAnagrams(strs: List[str]) -> List[List[str]]:\n",
    "\n",
    "    ll = {[]}\n",
    "    for word in strs:\n",
    "        l = ''.join(sorted(word))\n",
    "        \n",
    "        ll[l].append(word)\n",
    "    print(ll)\n",
    "print(groupAnagrams(strs))"
   ]
  },
  {
   "cell_type": "code",
   "execution_count": null,
   "id": "ee1b789a-e068-4d80-b685-9d01ceb8310e",
   "metadata": {},
   "outputs": [],
   "source": []
  }
 ],
 "metadata": {
  "kernelspec": {
   "display_name": "Python 3 (ipykernel)",
   "language": "python",
   "name": "python3"
  },
  "language_info": {
   "codemirror_mode": {
    "name": "ipython",
    "version": 3
   },
   "file_extension": ".py",
   "mimetype": "text/x-python",
   "name": "python",
   "nbconvert_exporter": "python",
   "pygments_lexer": "ipython3",
   "version": "3.13.2"
  }
 },
 "nbformat": 4,
 "nbformat_minor": 5
}
