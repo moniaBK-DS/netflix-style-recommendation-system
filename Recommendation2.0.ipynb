{
 "cells": [
  {
   "cell_type": "code",
   "execution_count": 1,
   "id": "69acbbcb-1640-4ba0-8133-ee8e6a64fc6b",
   "metadata": {
    "scrolled": true
   },
   "outputs": [
    {
     "name": "stdout",
     "output_type": "stream",
     "text": [
      "   userId  movieId  rating  timestamp\n",
      "0       1       17     4.0  944249077\n",
      "1       1       25     1.0  944250228\n",
      "2       1       29     2.0  943230976\n",
      "3       1       30     5.0  944249077\n",
      "4       1       32     5.0  943228858\n",
      "   movieId                               title  \\\n",
      "0        1                    Toy Story (1995)   \n",
      "1        2                      Jumanji (1995)   \n",
      "2        3             Grumpier Old Men (1995)   \n",
      "3        4            Waiting to Exhale (1995)   \n",
      "4        5  Father of the Bride Part II (1995)   \n",
      "\n",
      "                                        genres  \n",
      "0  Adventure|Animation|Children|Comedy|Fantasy  \n",
      "1                   Adventure|Children|Fantasy  \n",
      "2                               Comedy|Romance  \n",
      "3                         Comedy|Drama|Romance  \n",
      "4                                       Comedy  \n"
     ]
    }
   ],
   "source": [
    "import pandas as pd\n",
    "import matplotlib.pyplot as plt\n",
    "import seaborn as sns\n",
    "import sklearn\n",
    "import numpy as np\n",
    "from sklearn.metrics.pairwise import cosine_similarity\n",
    "\n",
    "df = pd.read_csv(\"Documents/ml-32m/ratings.csv\")\n",
    "movies_df = pd.read_csv('Documents/ml-32m/movies.csv')\n",
    "\n",
    "print(df.head())\n",
    "print(movies_df.head())"
   ]
  },
  {
   "cell_type": "code",
   "execution_count": 2,
   "id": "a27ab772-1077-49b4-a858-c359d6d36c4c",
   "metadata": {},
   "outputs": [
    {
     "name": "stdout",
     "output_type": "stream",
     "text": [
      "   userId  movieId  rating  timestamp  \\\n",
      "0       1       17     4.0  944249077   \n",
      "1       1       25     1.0  944250228   \n",
      "2       1       29     2.0  943230976   \n",
      "3       1       30     5.0  944249077   \n",
      "4       1       32     5.0  943228858   \n",
      "\n",
      "                                               title  \n",
      "0                       Sense and Sensibility (1995)  \n",
      "1                           Leaving Las Vegas (1995)  \n",
      "2  City of Lost Children, The (Cité des enfants p...  \n",
      "3  Shanghai Triad (Yao a yao yao dao waipo qiao) ...  \n",
      "4          Twelve Monkeys (a.k.a. 12 Monkeys) (1995)  \n"
     ]
    }
   ],
   "source": [
    "# Merge on the 'movieId' column\n",
    "df = pd.merge(df, movies_df[['movieId', 'title']], on='movieId', how='left')\n",
    "\n",
    "# Verify the merge\n",
    "print(df.head())\n"
   ]
  },
  {
   "cell_type": "code",
   "execution_count": 3,
   "id": "27928cf2-8e76-4075-93dd-3c69e0593a24",
   "metadata": {
    "scrolled": true
   },
   "outputs": [
    {
     "name": "stdout",
     "output_type": "stream",
     "text": [
      "<class 'pandas.core.frame.DataFrame'>\n",
      "RangeIndex: 32000204 entries, 0 to 32000203\n",
      "Data columns (total 5 columns):\n",
      " #   Column     Dtype  \n",
      "---  ------     -----  \n",
      " 0   userId     int64  \n",
      " 1   movieId    int64  \n",
      " 2   rating     float64\n",
      " 3   timestamp  int64  \n",
      " 4   title      object \n",
      "dtypes: float64(1), int64(3), object(1)\n",
      "memory usage: 1.2+ GB\n"
     ]
    }
   ],
   "source": [
    "df.info()"
   ]
  },
  {
   "cell_type": "code",
   "execution_count": 4,
   "id": "e1fa47dc-bcaf-444b-a4b8-651e6a49c826",
   "metadata": {},
   "outputs": [
    {
     "name": "stdout",
     "output_type": "stream",
     "text": [
      "200948\n",
      "84432\n"
     ]
    }
   ],
   "source": [
    "print(df['userId'].nunique()) #Number of unique users\n",
    "print(df['movieId'].nunique()) #Number of unique movies"
   ]
  },
  {
   "cell_type": "code",
   "execution_count": 5,
   "id": "18668be4-96aa-4664-80b0-c36541f392ff",
   "metadata": {},
   "outputs": [],
   "source": [
    "df.isnull().sum()\n",
    "df.dropna(inplace=True)\n",
    "df.duplicated().sum()\n",
    "df.drop_duplicates(inplace=True)"
   ]
  },
  {
   "cell_type": "code",
   "execution_count": 6,
   "id": "a699a9e2-2dd5-486e-afec-72aa0dc08f68",
   "metadata": {},
   "outputs": [
    {
     "data": {
      "text/plain": [
       "userId                int64\n",
       "movieId               int64\n",
       "rating              float64\n",
       "timestamp    datetime64[ns]\n",
       "title                object\n",
       "dtype: object"
      ]
     },
     "execution_count": 6,
     "metadata": {},
     "output_type": "execute_result"
    }
   ],
   "source": [
    "df['timestamp'] = pd.to_datetime(df['timestamp'], unit='s')  # If timestamps are in Unix format\n",
    "df['userId'] = df['userId'].astype(int)\n",
    "df.dtypes"
   ]
  },
  {
   "cell_type": "code",
   "execution_count": 7,
   "id": "d907c9ff-ed07-460c-9fcf-bfa074979698",
   "metadata": {},
   "outputs": [
    {
     "name": "stdout",
     "output_type": "stream",
     "text": [
      "Rows: 32000204, Columns: 5\n"
     ]
    }
   ],
   "source": [
    "print(f\"Rows: {df.shape[0]}, Columns: {df.shape[1]}\")\n"
   ]
  },
  {
   "cell_type": "code",
   "execution_count": 8,
   "id": "f52d11ae-5e87-4af0-afd8-8b95bd4c52d1",
   "metadata": {},
   "outputs": [
    {
     "data": {
      "text/html": [
       "<div>\n",
       "<style scoped>\n",
       "    .dataframe tbody tr th:only-of-type {\n",
       "        vertical-align: middle;\n",
       "    }\n",
       "\n",
       "    .dataframe tbody tr th {\n",
       "        vertical-align: top;\n",
       "    }\n",
       "\n",
       "    .dataframe thead th {\n",
       "        text-align: right;\n",
       "    }\n",
       "</style>\n",
       "<table border=\"1\" class=\"dataframe\">\n",
       "  <thead>\n",
       "    <tr style=\"text-align: right;\">\n",
       "      <th></th>\n",
       "      <th>userId</th>\n",
       "      <th>movieId</th>\n",
       "      <th>rating</th>\n",
       "      <th>timestamp</th>\n",
       "    </tr>\n",
       "  </thead>\n",
       "  <tbody>\n",
       "    <tr>\n",
       "      <th>count</th>\n",
       "      <td>3.200020e+07</td>\n",
       "      <td>3.200020e+07</td>\n",
       "      <td>3.200020e+07</td>\n",
       "      <td>32000204</td>\n",
       "    </tr>\n",
       "    <tr>\n",
       "      <th>mean</th>\n",
       "      <td>1.002785e+05</td>\n",
       "      <td>2.931861e+04</td>\n",
       "      <td>3.540396e+00</td>\n",
       "      <td>2010-05-30 17:39:59.573265152</td>\n",
       "    </tr>\n",
       "    <tr>\n",
       "      <th>min</th>\n",
       "      <td>1.000000e+00</td>\n",
       "      <td>1.000000e+00</td>\n",
       "      <td>5.000000e-01</td>\n",
       "      <td>1995-01-09 11:46:44</td>\n",
       "    </tr>\n",
       "    <tr>\n",
       "      <th>25%</th>\n",
       "      <td>5.005300e+04</td>\n",
       "      <td>1.233000e+03</td>\n",
       "      <td>3.000000e+00</td>\n",
       "      <td>2003-04-22 11:53:50</td>\n",
       "    </tr>\n",
       "    <tr>\n",
       "      <th>50%</th>\n",
       "      <td>1.002970e+05</td>\n",
       "      <td>3.452000e+03</td>\n",
       "      <td>3.500000e+00</td>\n",
       "      <td>2010-04-30 10:03:32.500000</td>\n",
       "    </tr>\n",
       "    <tr>\n",
       "      <th>75%</th>\n",
       "      <td>1.504510e+05</td>\n",
       "      <td>4.419900e+04</td>\n",
       "      <td>4.000000e+00</td>\n",
       "      <td>2017-08-19 15:59:05.249999872</td>\n",
       "    </tr>\n",
       "    <tr>\n",
       "      <th>max</th>\n",
       "      <td>2.009480e+05</td>\n",
       "      <td>2.927570e+05</td>\n",
       "      <td>5.000000e+00</td>\n",
       "      <td>2023-10-13 02:29:07</td>\n",
       "    </tr>\n",
       "    <tr>\n",
       "      <th>std</th>\n",
       "      <td>5.794905e+04</td>\n",
       "      <td>5.095816e+04</td>\n",
       "      <td>1.058986e+00</td>\n",
       "      <td>NaN</td>\n",
       "    </tr>\n",
       "  </tbody>\n",
       "</table>\n",
       "</div>"
      ],
      "text/plain": [
       "             userId       movieId        rating                      timestamp\n",
       "count  3.200020e+07  3.200020e+07  3.200020e+07                       32000204\n",
       "mean   1.002785e+05  2.931861e+04  3.540396e+00  2010-05-30 17:39:59.573265152\n",
       "min    1.000000e+00  1.000000e+00  5.000000e-01            1995-01-09 11:46:44\n",
       "25%    5.005300e+04  1.233000e+03  3.000000e+00            2003-04-22 11:53:50\n",
       "50%    1.002970e+05  3.452000e+03  3.500000e+00     2010-04-30 10:03:32.500000\n",
       "75%    1.504510e+05  4.419900e+04  4.000000e+00  2017-08-19 15:59:05.249999872\n",
       "max    2.009480e+05  2.927570e+05  5.000000e+00            2023-10-13 02:29:07\n",
       "std    5.794905e+04  5.095816e+04  1.058986e+00                            NaN"
      ]
     },
     "execution_count": 8,
     "metadata": {},
     "output_type": "execute_result"
    }
   ],
   "source": [
    "df.describe()"
   ]
  },
  {
   "cell_type": "code",
   "execution_count": 9,
   "id": "78a3a86a-436c-475f-aa4e-24d74d75040d",
   "metadata": {},
   "outputs": [
    {
     "data": {
      "image/png": "[encoded data removed]",
      "text/plain": [
       "<Figure size 800x500 with 1 Axes>"
      ]
     },
     "metadata": {},
     "output_type": "display_data"
    }
   ],
   "source": [
    "#  rating distribution patterns\n",
    "plt.figure(figsize=(8,5))\n",
    "sns.histplot(df['rating'], bins=10, kde=True)\n",
    "plt.xlabel(\"Rating\")\n",
    "plt.ylabel(\"Count\")\n",
    "plt.title(\"Distribution of Ratings\")\n",
    "plt.show()"
   ]
  },
  {
   "cell_type": "code",
   "execution_count": 10,
   "id": "0a86f5fc-d728-490a-bba8-935510657d23",
   "metadata": {},
   "outputs": [
    {
     "name": "stdout",
     "output_type": "stream",
     "text": [
      "movieId\n",
      "318     102929\n",
      "356     100296\n",
      "296      98409\n",
      "2571     93808\n",
      "593      90330\n",
      "260      85010\n",
      "2959     77332\n",
      "480      75233\n",
      "527      73849\n",
      "4993     73122\n",
      "Name: rating, dtype: int64\n"
     ]
    }
   ],
   "source": [
    "top_items = df.groupby('movieId')['rating'].count().sort_values(ascending=False).head(10) #top rated/most reviewed movies\n",
    "print(top_items)"
   ]
  },
  {
   "cell_type": "code",
   "execution_count": 12,
   "id": "a63dca4e-67b0-450b-95df-49b5a9956a36",
   "metadata": {},
   "outputs": [
    {
     "name": "stdout",
     "output_type": "stream",
     "text": [
      "movieId\n",
      "199103    5.0\n",
      "268476    5.0\n",
      "171849    5.0\n",
      "268054    5.0\n",
      "268090    5.0\n",
      "268114    5.0\n",
      "122649    5.0\n",
      "225251    5.0\n",
      "147402    5.0\n",
      "268438    5.0\n",
      "Name: rating, dtype: float64\n"
     ]
    }
   ],
   "source": [
    "top_avg_ratings = df.groupby('movieId')['rating'].mean().sort_values(ascending=False).head(10) #highest rated movies on average \n",
    "print(top_avg_ratings)\n"
   ]
  },
  {
   "cell_type": "code",
   "execution_count": 13,
   "id": "8e5af3be-f1bc-4438-b677-7c22df227572",
   "metadata": {},
   "outputs": [
    {
     "name": "stdout",
     "output_type": "stream",
     "text": [
      "movieId\n",
      "102672    4.500000\n",
      "171011    4.446830\n",
      "159817    4.444369\n",
      "223011    4.441176\n",
      "170705    4.426539\n",
      "318       4.404614\n",
      "203847    4.400000\n",
      "171331    4.395833\n",
      "240686    4.363636\n",
      "171495    4.330081\n",
      "Name: rating, dtype: float64\n"
     ]
    }
   ],
   "source": [
    "popular_movies = df.groupby('movieId').filter(lambda x: x['rating'].count() > 10)\n",
    "top_avg_ratings = popular_movies.groupby('movieId')['rating'].mean().sort_values(ascending=False).head(10)\n",
    "print(top_avg_ratings)\n"
   ]
  },
  {
   "cell_type": "code",
   "execution_count": 14,
   "id": "4114b5f7-cf2b-4554-8132-dc91e03c9289",
   "metadata": {},
   "outputs": [
    {
     "data": {
      "image/png": "[encoded data removed]",
      "text/plain": [
       "<Figure size 1000x500 with 1 Axes>"
      ]
     },
     "metadata": {},
     "output_type": "display_data"
    }
   ],
   "source": [
    "# \"who rates the most\"\n",
    "user_rating_counts = df.groupby('userId')['rating'].count()\n",
    "plt.figure(figsize=(10, 5))\n",
    "sns.histplot(user_rating_counts, bins=50, kde=True)\n",
    "plt.xlabel(\"Number of Ratings per User\")\n",
    "plt.ylabel(\"Count\")\n",
    "plt.title(\"Distribution of Ratings per User\")\n",
    "plt.show()"
   ]
  },
  {
   "cell_type": "markdown",
   "id": "33f2de8d-9330-4449-82a9-8f88a75810bf",
   "metadata": {},
   "source": [
    "Recommendation System"
   ]
  },
  {
   "cell_type": "code",
   "execution_count": 15,
   "id": "ef1199a7-3ada-4c8c-905f-d0aad09101cd",
   "metadata": {},
   "outputs": [
    {
     "name": "stdout",
     "output_type": "stream",
     "text": [
      "movieId\n",
      "318     102929\n",
      "356     100296\n",
      "296      98409\n",
      "2571     93808\n",
      "593      90330\n",
      "260      85010\n",
      "2959     77332\n",
      "480      75233\n",
      "527      73849\n",
      "4993     73122\n",
      "Name: rating, dtype: int64\n"
     ]
    }
   ],
   "source": [
    "top_movies = df.groupby('movieId')['rating'].count().sort_values(ascending=False).head(10)\n",
    "print(top_movies)"
   ]
  },
  {
   "cell_type": "code",
   "execution_count": 16,
   "id": "7a057b15-ee2f-4674-afb7-b0908f3c394a",
   "metadata": {},
   "outputs": [],
   "source": [
    "import numpy as np\n",
    "import pandas as pd\n",
    "from scipy.sparse import csr_matrix\n",
    "\n",
    "# Filter down the dfset\n",
    "df_sample = df.sample(frac=0.1, random_state=42)  # Keep only 10% of the df\n",
    "\n",
    "# Create user and item mappings\n",
    "user_ids = df_sample['userId'].astype('category').cat.codes\n",
    "movie_ids = df_sample['movieId'].astype('category').cat.codes\n",
    "\n",
    "# Create a sparse matrix\n",
    "ratings_sparse = csr_matrix((df_sample['rating'], (user_ids, movie_ids)))"
   ]
  },
  {
   "cell_type": "code",
   "execution_count": 17,
   "id": "bb74b777-dbb2-4994-a5b2-7169649bd158",
   "metadata": {},
   "outputs": [
    {
     "data": {
      "text/html": [
       "<style>#sk-container-id-1 {\n",
       "  /* Definition of color scheme common for light and dark mode */\n",
       "  --sklearn-color-text: #000;\n",
       "  --sklearn-color-text-muted: #666;\n",
       "  --sklearn-color-line: gray;\n",
       "  /* Definition of color scheme for unfitted estimators */\n",
       "  --sklearn-color-unfitted-level-0: #fff5e6;\n",
       "  --sklearn-color-unfitted-level-1: #f6e4d2;\n",
       "  --sklearn-color-unfitted-level-2: #ffe0b3;\n",
       "  --sklearn-color-unfitted-level-3: chocolate;\n",
       "  /* Definition of color scheme for fitted estimators */\n",
       "  --sklearn-color-fitted-level-0: #f0f8ff;\n",
       "  --sklearn-color-fitted-level-1: #d4ebff;\n",
       "  --sklearn-color-fitted-level-2: #b3dbfd;\n",
       "  --sklearn-color-fitted-level-3: cornflowerblue;\n",
       "\n",
       "  /* Specific color for light theme */\n",
       "  --sklearn-color-text-on-default-background: var(--sg-text-color, var(--theme-code-foreground, var(--jp-content-font-color1, black)));\n",
       "  --sklearn-color-background: var(--sg-background-color, var(--theme-background, var(--jp-layout-color0, white)));\n",
       "  --sklearn-color-border-box: var(--sg-text-color, var(--theme-code-foreground, var(--jp-content-font-color1, black)));\n",
       "  --sklearn-color-icon: #696969;\n",
       "\n",
       "  @media (prefers-color-scheme: dark) {\n",
       "    /* Redefinition of color scheme for dark theme */\n",
       "    --sklearn-color-text-on-default-background: var(--sg-text-color, var(--theme-code-foreground, var(--jp-content-font-color1, white)));\n",
       "    --sklearn-color-background: var(--sg-background-color, var(--theme-background, var(--jp-layout-color0, #111)));\n",
       "    --sklearn-color-border-box: var(--sg-text-color, var(--theme-code-foreground, var(--jp-content-font-color1, white)));\n",
       "    --sklearn-color-icon: #878787;\n",
       "  }\n",
       "}\n",
       "\n",
       "#sk-container-id-1 {\n",
       "  color: var(--sklearn-color-text);\n",
       "}\n",
       "\n",
       "#sk-container-id-1 pre {\n",
       "  padding: 0;\n",
       "}\n",
       "\n",
       "#sk-container-id-1 input.sk-hidden--visually {\n",
       "  border: 0;\n",
       "  clip: rect(1px 1px 1px 1px);\n",
       "  clip: rect(1px, 1px, 1px, 1px);\n",
       "  height: 1px;\n",
       "  margin: -1px;\n",
       "  overflow: hidden;\n",
       "  padding: 0;\n",
       "  position: absolute;\n",
       "  width: 1px;\n",
       "}\n",
       "\n",
       "#sk-container-id-1 div.sk-dashed-wrapped {\n",
       "  border: 1px dashed var(--sklearn-color-line);\n",
       "  margin: 0 0.4em 0.5em 0.4em;\n",
       "  box-sizing: border-box;\n",
       "  padding-bottom: 0.4em;\n",
       "  background-color: var(--sklearn-color-background);\n",
       "}\n",
       "\n",
       "#sk-container-id-1 div.sk-container {\n",
       "  /* jupyter's `normalize.less` sets `[hidden] { display: none; }`\n",
       "     but bootstrap.min.css set `[hidden] { display: none !important; }`\n",
       "     so we also need the `!important` here to be able to override the\n",
       "     default hidden behavior on the sphinx rendered scikit-learn.org.\n",
       "     See: https://github.com/scikit-learn/scikit-learn/issues/21755 */\n",
       "  display: inline-block !important;\n",
       "  position: relative;\n",
       "}\n",
       "\n",
       "#sk-container-id-1 div.sk-text-repr-fallback {\n",
       "  display: none;\n",
       "}\n",
       "\n",
       "div.sk-parallel-item,\n",
       "div.sk-serial,\n",
       "div.sk-item {\n",
       "  /* draw centered vertical line to link estimators */\n",
       "  background-image: linear-gradient(var(--sklearn-color-text-on-default-background), var(--sklearn-color-text-on-default-background));\n",
       "  background-size: 2px 100%;\n",
       "  background-repeat: no-repeat;\n",
       "  background-position: center center;\n",
       "}\n",
       "\n",
       "/* Parallel-specific style estimator block */\n",
       "\n",
       "#sk-container-id-1 div.sk-parallel-item::after {\n",
       "  content: \"\";\n",
       "  width: 100%;\n",
       "  border-bottom: 2px solid var(--sklearn-color-text-on-default-background);\n",
       "  flex-grow: 1;\n",
       "}\n",
       "\n",
       "#sk-container-id-1 div.sk-parallel {\n",
       "  display: flex;\n",
       "  align-items: stretch;\n",
       "  justify-content: center;\n",
       "  background-color: var(--sklearn-color-background);\n",
       "  position: relative;\n",
       "}\n",
       "\n",
       "#sk-container-id-1 div.sk-parallel-item {\n",
       "  display: flex;\n",
       "  flex-direction: column;\n",
       "}\n",
       "\n",
       "#sk-container-id-1 div.sk-parallel-item:first-child::after {\n",
       "  align-self: flex-end;\n",
       "  width: 50%;\n",
       "}\n",
       "\n",
       "#sk-container-id-1 div.sk-parallel-item:last-child::after {\n",
       "  align-self: flex-start;\n",
       "  width: 50%;\n",
       "}\n",
       "\n",
       "#sk-container-id-1 div.sk-parallel-item:only-child::after {\n",
       "  width: 0;\n",
       "}\n",
       "\n",
       "/* Serial-specific style estimator block */\n",
       "\n",
       "#sk-container-id-1 div.sk-serial {\n",
       "  display: flex;\n",
       "  flex-direction: column;\n",
       "  align-items: center;\n",
       "  background-color: var(--sklearn-color-background);\n",
       "  padding-right: 1em;\n",
       "  padding-left: 1em;\n",
       "}\n",
       "\n",
       "\n",
       "/* Toggleable style: style used for estimator/Pipeline/ColumnTransformer box that is\n",
       "clickable and can be expanded/collapsed.\n",
       "- Pipeline and ColumnTransformer use this feature and define the default style\n",
       "- Estimators will overwrite some part of the style using the `sk-estimator` class\n",
       "*/\n",
       "\n",
       "/* Pipeline and ColumnTransformer style (default) */\n",
       "\n",
       "#sk-container-id-1 div.sk-toggleable {\n",
       "  /* Default theme specific background. It is overwritten whether we have a\n",
       "  specific estimator or a Pipeline/ColumnTransformer */\n",
       "  background-color: var(--sklearn-color-background);\n",
       "}\n",
       "\n",
       "/* Toggleable label */\n",
       "#sk-container-id-1 label.sk-toggleable__label {\n",
       "  cursor: pointer;\n",
       "  display: flex;\n",
       "  width: 100%;\n",
       "  margin-bottom: 0;\n",
       "  padding: 0.5em;\n",
       "  box-sizing: border-box;\n",
       "  text-align: center;\n",
       "  align-items: start;\n",
       "  justify-content: space-between;\n",
       "  gap: 0.5em;\n",
       "}\n",
       "\n",
       "#sk-container-id-1 label.sk-toggleable__label .caption {\n",
       "  font-size: 0.6rem;\n",
       "  font-weight: lighter;\n",
       "  color: var(--sklearn-color-text-muted);\n",
       "}\n",
       "\n",
       "#sk-container-id-1 label.sk-toggleable__label-arrow:before {\n",
       "  /* Arrow on the left of the label */\n",
       "  content: \"▸\";\n",
       "  float: left;\n",
       "  margin-right: 0.25em;\n",
       "  color: var(--sklearn-color-icon);\n",
       "}\n",
       "\n",
       "#sk-container-id-1 label.sk-toggleable__label-arrow:hover:before {\n",
       "  color: var(--sklearn-color-text);\n",
       "}\n",
       "\n",
       "/* Toggleable content - dropdown */\n",
       "\n",
       "#sk-container-id-1 div.sk-toggleable__content {\n",
       "  max-height: 0;\n",
       "  max-width: 0;\n",
       "  overflow: hidden;\n",
       "  text-align: left;\n",
       "  /* unfitted */\n",
       "  background-color: var(--sklearn-color-unfitted-level-0);\n",
       "}\n",
       "\n",
       "#sk-container-id-1 div.sk-toggleable__content.fitted {\n",
       "  /* fitted */\n",
       "  background-color: var(--sklearn-color-fitted-level-0);\n",
       "}\n",
       "\n",
       "#sk-container-id-1 div.sk-toggleable__content pre {\n",
       "  margin: 0.2em;\n",
       "  border-radius: 0.25em;\n",
       "  color: var(--sklearn-color-text);\n",
       "  /* unfitted */\n",
       "  background-color: var(--sklearn-color-unfitted-level-0);\n",
       "}\n",
       "\n",
       "#sk-container-id-1 div.sk-toggleable__content.fitted pre {\n",
       "  /* unfitted */\n",
       "  background-color: var(--sklearn-color-fitted-level-0);\n",
       "}\n",
       "\n",
       "#sk-container-id-1 input.sk-toggleable__control:checked~div.sk-toggleable__content {\n",
       "  /* Expand drop-down */\n",
       "  max-height: 200px;\n",
       "  max-width: 100%;\n",
       "  overflow: auto;\n",
       "}\n",
       "\n",
       "#sk-container-id-1 input.sk-toggleable__control:checked~label.sk-toggleable__label-arrow:before {\n",
       "  content: \"▾\";\n",
       "}\n",
       "\n",
       "/* Pipeline/ColumnTransformer-specific style */\n",
       "\n",
       "#sk-container-id-1 div.sk-label input.sk-toggleable__control:checked~label.sk-toggleable__label {\n",
       "  color: var(--sklearn-color-text);\n",
       "  background-color: var(--sklearn-color-unfitted-level-2);\n",
       "}\n",
       "\n",
       "#sk-container-id-1 div.sk-label.fitted input.sk-toggleable__control:checked~label.sk-toggleable__label {\n",
       "  background-color: var(--sklearn-color-fitted-level-2);\n",
       "}\n",
       "\n",
       "/* Estimator-specific style */\n",
       "\n",
       "/* Colorize estimator box */\n",
       "#sk-container-id-1 div.sk-estimator input.sk-toggleable__control:checked~label.sk-toggleable__label {\n",
       "  /* unfitted */\n",
       "  background-color: var(--sklearn-color-unfitted-level-2);\n",
       "}\n",
       "\n",
       "#sk-container-id-1 div.sk-estimator.fitted input.sk-toggleable__control:checked~label.sk-toggleable__label {\n",
       "  /* fitted */\n",
       "  background-color: var(--sklearn-color-fitted-level-2);\n",
       "}\n",
       "\n",
       "#sk-container-id-1 div.sk-label label.sk-toggleable__label,\n",
       "#sk-container-id-1 div.sk-label label {\n",
       "  /* The background is the default theme color */\n",
       "  color: var(--sklearn-color-text-on-default-background);\n",
       "}\n",
       "\n",
       "/* On hover, darken the color of the background */\n",
       "#sk-container-id-1 div.sk-label:hover label.sk-toggleable__label {\n",
       "  color: var(--sklearn-color-text);\n",
       "  background-color: var(--sklearn-color-unfitted-level-2);\n",
       "}\n",
       "\n",
       "/* Label box, darken color on hover, fitted */\n",
       "#sk-container-id-1 div.sk-label.fitted:hover label.sk-toggleable__label.fitted {\n",
       "  color: var(--sklearn-color-text);\n",
       "  background-color: var(--sklearn-color-fitted-level-2);\n",
       "}\n",
       "\n",
       "/* Estimator label */\n",
       "\n",
       "#sk-container-id-1 div.sk-label label {\n",
       "  font-family: monospace;\n",
       "  font-weight: bold;\n",
       "  display: inline-block;\n",
       "  line-height: 1.2em;\n",
       "}\n",
       "\n",
       "#sk-container-id-1 div.sk-label-container {\n",
       "  text-align: center;\n",
       "}\n",
       "\n",
       "/* Estimator-specific */\n",
       "#sk-container-id-1 div.sk-estimator {\n",
       "  font-family: monospace;\n",
       "  border: 1px dotted var(--sklearn-color-border-box);\n",
       "  border-radius: 0.25em;\n",
       "  box-sizing: border-box;\n",
       "  margin-bottom: 0.5em;\n",
       "  /* unfitted */\n",
       "  background-color: var(--sklearn-color-unfitted-level-0);\n",
       "}\n",
       "\n",
       "#sk-container-id-1 div.sk-estimator.fitted {\n",
       "  /* fitted */\n",
       "  background-color: var(--sklearn-color-fitted-level-0);\n",
       "}\n",
       "\n",
       "/* on hover */\n",
       "#sk-container-id-1 div.sk-estimator:hover {\n",
       "  /* unfitted */\n",
       "  background-color: var(--sklearn-color-unfitted-level-2);\n",
       "}\n",
       "\n",
       "#sk-container-id-1 div.sk-estimator.fitted:hover {\n",
       "  /* fitted */\n",
       "  background-color: var(--sklearn-color-fitted-level-2);\n",
       "}\n",
       "\n",
       "/* Specification for estimator info (e.g. \"i\" and \"?\") */\n",
       "\n",
       "/* Common style for \"i\" and \"?\" */\n",
       "\n",
       ".sk-estimator-doc-link,\n",
       "a:link.sk-estimator-doc-link,\n",
       "a:visited.sk-estimator-doc-link {\n",
       "  float: right;\n",
       "  font-size: smaller;\n",
       "  line-height: 1em;\n",
       "  font-family: monospace;\n",
       "  background-color: var(--sklearn-color-background);\n",
       "  border-radius: 1em;\n",
       "  height: 1em;\n",
       "  width: 1em;\n",
       "  text-decoration: none !important;\n",
       "  margin-left: 0.5em;\n",
       "  text-align: center;\n",
       "  /* unfitted */\n",
       "  border: var(--sklearn-color-unfitted-level-1) 1pt solid;\n",
       "  color: var(--sklearn-color-unfitted-level-1);\n",
       "}\n",
       "\n",
       ".sk-estimator-doc-link.fitted,\n",
       "a:link.sk-estimator-doc-link.fitted,\n",
       "a:visited.sk-estimator-doc-link.fitted {\n",
       "  /* fitted */\n",
       "  border: var(--sklearn-color-fitted-level-1) 1pt solid;\n",
       "  color: var(--sklearn-color-fitted-level-1);\n",
       "}\n",
       "\n",
       "/* On hover */\n",
       "div.sk-estimator:hover .sk-estimator-doc-link:hover,\n",
       ".sk-estimator-doc-link:hover,\n",
       "div.sk-label-container:hover .sk-estimator-doc-link:hover,\n",
       ".sk-estimator-doc-link:hover {\n",
       "  /* unfitted */\n",
       "  background-color: var(--sklearn-color-unfitted-level-3);\n",
       "  color: var(--sklearn-color-background);\n",
       "  text-decoration: none;\n",
       "}\n",
       "\n",
       "div.sk-estimator.fitted:hover .sk-estimator-doc-link.fitted:hover,\n",
       ".sk-estimator-doc-link.fitted:hover,\n",
       "div.sk-label-container:hover .sk-estimator-doc-link.fitted:hover,\n",
       ".sk-estimator-doc-link.fitted:hover {\n",
       "  /* fitted */\n",
       "  background-color: var(--sklearn-color-fitted-level-3);\n",
       "  color: var(--sklearn-color-background);\n",
       "  text-decoration: none;\n",
       "}\n",
       "\n",
       "/* Span, style for the box shown on hovering the info icon */\n",
       ".sk-estimator-doc-link span {\n",
       "  display: none;\n",
       "  z-index: 9999;\n",
       "  position: relative;\n",
       "  font-weight: normal;\n",
       "  right: .2ex;\n",
       "  padding: .5ex;\n",
       "  margin: .5ex;\n",
       "  width: min-content;\n",
       "  min-width: 20ex;\n",
       "  max-width: 50ex;\n",
       "  color: var(--sklearn-color-text);\n",
       "  box-shadow: 2pt 2pt 4pt #999;\n",
       "  /* unfitted */\n",
       "  background: var(--sklearn-color-unfitted-level-0);\n",
       "  border: .5pt solid var(--sklearn-color-unfitted-level-3);\n",
       "}\n",
       "\n",
       ".sk-estimator-doc-link.fitted span {\n",
       "  /* fitted */\n",
       "  background: var(--sklearn-color-fitted-level-0);\n",
       "  border: var(--sklearn-color-fitted-level-3);\n",
       "}\n",
       "\n",
       ".sk-estimator-doc-link:hover span {\n",
       "  display: block;\n",
       "}\n",
       "\n",
       "/* \"?\"-specific style due to the `<a>` HTML tag */\n",
       "\n",
       "#sk-container-id-1 a.estimator_doc_link {\n",
       "  float: right;\n",
       "  font-size: 1rem;\n",
       "  line-height: 1em;\n",
       "  font-family: monospace;\n",
       "  background-color: var(--sklearn-color-background);\n",
       "  border-radius: 1rem;\n",
       "  height: 1rem;\n",
       "  width: 1rem;\n",
       "  text-decoration: none;\n",
       "  /* unfitted */\n",
       "  color: var(--sklearn-color-unfitted-level-1);\n",
       "  border: var(--sklearn-color-unfitted-level-1) 1pt solid;\n",
       "}\n",
       "\n",
       "#sk-container-id-1 a.estimator_doc_link.fitted {\n",
       "  /* fitted */\n",
       "  border: var(--sklearn-color-fitted-level-1) 1pt solid;\n",
       "  color: var(--sklearn-color-fitted-level-1);\n",
       "}\n",
       "\n",
       "/* On hover */\n",
       "#sk-container-id-1 a.estimator_doc_link:hover {\n",
       "  /* unfitted */\n",
       "  background-color: var(--sklearn-color-unfitted-level-3);\n",
       "  color: var(--sklearn-color-background);\n",
       "  text-decoration: none;\n",
       "}\n",
       "\n",
       "#sk-container-id-1 a.estimator_doc_link.fitted:hover {\n",
       "  /* fitted */\n",
       "  background-color: var(--sklearn-color-fitted-level-3);\n",
       "}\n",
       "</style><div id=\"sk-container-id-1\" class=\"sk-top-container\"><div class=\"sk-text-repr-fallback\"><pre>NearestNeighbors(algorithm=&#x27;brute&#x27;, metric=&#x27;cosine&#x27;)</pre><b>In a Jupyter environment, please rerun this cell to show the HTML representation or trust the notebook. <br />On GitHub, the HTML representation is unable to render, please try loading this page with nbviewer.org.</b></div><div class=\"sk-container\" hidden><div class=\"sk-item\"><div class=\"sk-estimator fitted sk-toggleable\"><input class=\"sk-toggleable__control sk-hidden--visually\" id=\"sk-estimator-id-1\" type=\"checkbox\" checked><label for=\"sk-estimator-id-1\" class=\"sk-toggleable__label fitted sk-toggleable__label-arrow\"><div><div>NearestNeighbors</div></div><div><a class=\"sk-estimator-doc-link fitted\" rel=\"noreferrer\" target=\"_blank\" href=\"https://scikit-learn.org/1.6/modules/generated/sklearn.neighbors.NearestNeighbors.html\">?<span>Documentation for NearestNeighbors</span></a><span class=\"sk-estimator-doc-link fitted\">i<span>Fitted</span></span></div></label><div class=\"sk-toggleable__content fitted\"><pre>NearestNeighbors(algorithm=&#x27;brute&#x27;, metric=&#x27;cosine&#x27;)</pre></div> </div></div></div></div>"
      ],
      "text/plain": [
       "NearestNeighbors(algorithm='brute', metric='cosine')"
      ]
     },
     "execution_count": 17,
     "metadata": {},
     "output_type": "execute_result"
    }
   ],
   "source": [
    "from sklearn.neighbors import NearestNeighbors\n",
    "\n",
    "# Initialize the model with sparse matrix support\n",
    "model = NearestNeighbors(metric='cosine', algorithm='brute')\n",
    "\n",
    "# Fit on the sparse matrix (faster than computing full similarity)\n",
    "model.fit(ratings_sparse)\n"
   ]
  },
  {
   "cell_type": "code",
   "execution_count": 18,
   "id": "6b8d14d8-6eb7-4330-9083-4e8857b0922d",
   "metadata": {},
   "outputs": [
    {
     "name": "stdout",
     "output_type": "stream",
     "text": [
      "Most similar users: [    10 112561 147052  49153  34819]\n",
      "Similarity scores: [0.         0.2116175  0.33103527 0.33103527 0.33103527]\n"
     ]
    }
   ],
   "source": [
    "# Find the 5 most similar users to user index 10\n",
    "distances, indices = model.kneighbors(ratings_sparse[10], n_neighbors=5)\n",
    "\n",
    "print(\"Most similar users:\", indices.flatten())\n",
    "print(\"Similarity scores:\", distances.flatten())"
   ]
  },
  {
   "cell_type": "markdown",
   "id": "f48768cb-4d9d-4428-83ef-7e8a870b95a3",
   "metadata": {},
   "source": [
    "Generate movie recommendations based on similar users' preferences"
   ]
  },
  {
   "cell_type": "markdown",
   "id": "c6c37b0e-0db4-4a91-bc89-0af08b2ea27c",
   "metadata": {},
   "source": [
    "Step 1: Get a User’s Ratings\n",
    "Pick a user and find the movies they have already rated."
   ]
  },
  {
   "cell_type": "code",
   "execution_count": 24,
   "id": "4e6431ba-7e01-418f-b6ad-7e059302ad2c",
   "metadata": {
    "scrolled": true
   },
   "outputs": [
    {
     "name": "stdout",
     "output_type": "stream",
     "text": [
      "User 18 has rated 9 movies.\n"
     ]
    }
   ],
   "source": [
    "user_idx = 18  # or any other users\n",
    "\n",
    "# Get the movies this user has rated\n",
    "user_ratings = ratings_sparse[user_idx].toarray().flatten()\n",
    "\n",
    "# Get movie indices that the user has already rated\n",
    "rated_movies = np.where(user_ratings > 0)[0]\n",
    "\n",
    "print(f\"User {user_idx} has rated {len(rated_movies)} movies.\")\n"
   ]
  },
  {
   "cell_type": "markdown",
   "id": "6d322370-a5f3-44aa-b3a0-72c5f7ed7c22",
   "metadata": {},
   "source": [
    "Step 2: Get the Most Similar Users\n",
    "\n",
    "Retrieve the 5 most similar users using the NearestNeighbors model."
   ]
  },
  {
   "cell_type": "code",
   "execution_count": 25,
   "id": "c19e0bf4-faad-45f8-9d70-0cfbed694979",
   "metadata": {},
   "outputs": [
    {
     "name": "stdout",
     "output_type": "stream",
     "text": [
      "Most similar users to 18: [118348  21857 189036 183330 155804]\n"
     ]
    }
   ],
   "source": [
    "# Find similar users\n",
    "distances, similar_users = model.kneighbors(ratings_sparse[user_idx], n_neighbors=6)\n",
    "\n",
    "# Exclude the first user (it’s the target user themselves)\n",
    "similar_users = similar_users.flatten()[1:]\n",
    "\n",
    "print(f\"Most similar users to {user_idx}: {similar_users}\")\n"
   ]
  },
  {
   "cell_type": "markdown",
   "id": "171c6634-04ea-4fc5-bbf4-0f05f7454da6",
   "metadata": {},
   "source": [
    "Step 3: Aggregate Ratings from Similar Users\n",
    "\n",
    "What these similar users have rated highly and recommend movies that the target user hasn’t watched yet."
   ]
  },
  {
   "cell_type": "code",
   "execution_count": 26,
   "id": "be8114cc-9209-4327-ac42-62365b62e260",
   "metadata": {},
   "outputs": [
    {
     "name": "stdout",
     "output_type": "stream",
     "text": [
      "Recommended movies for user 18: [ 1941  2221  1185 42808 14267]\n"
     ]
    }
   ],
   "source": [
    "# Aggregate ratings from similar users\n",
    "similar_users_ratings = ratings_sparse[similar_users].toarray().mean(axis=0)\n",
    "\n",
    "# Exclude movies the user has already rated\n",
    "similar_users_ratings[rated_movies] = 0  \n",
    "\n",
    "# Get the top 5 recommended movie indices\n",
    "recommended_movie_indices = similar_users_ratings.argsort()[::-1][:5]  \n",
    "\n",
    "print(f\"Recommended movies for user {user_idx}: {recommended_movie_indices}\")"
   ]
  },
  {
   "cell_type": "markdown",
   "id": "ad1dfd6c-66ae-4336-9f4a-cdb6d1c03fe6",
   "metadata": {},
   "source": [
    "Step 4: Convert Movie Indices to Movie Titles\n",
    "\n",
    "Since the dfset uses numeric movie IDs, we need to map them back to actual movie titles using the original dfset (df)."
   ]
  },
  {
   "cell_type": "code",
   "execution_count": 27,
   "id": "e8707494-24cd-49dc-91d8-f7658a7bdc5b",
   "metadata": {},
   "outputs": [
    {
     "name": "stdout",
     "output_type": "stream",
     "text": [
      "Recommended movie indices from sparse matrix: [ 1941  2221  1185 42808 14267]\n",
      "Movie ID mapping example: [(0, 1), (1, 2), (2, 3), (3, 4), (4, 5), (5, 6), (6, 7), (7, 8), (8, 9), (9, 10)]\n",
      "Mapped Movie IDs: [2046, 2331, 1225, 292755, 80617]\n"
     ]
    }
   ],
   "source": [
    "# Map movie indices back to movie IDs\n",
    "movie_id_mapping = dict(enumerate(df_sample['movieId'].astype('category').cat.categories))\n",
    "recommended_movie_ids = [movie_id_mapping[idx] for idx in recommended_movie_indices]\n",
    "\n",
    "# Debugging: Print recommended movie indices\n",
    "print(\"Recommended movie indices from sparse matrix:\", recommended_movie_indices)\n",
    "\n",
    "# Debugging: Check the mapping\n",
    "print(\"Movie ID mapping example:\", list(movie_id_mapping.items())[:10])  # Show first 10 mappings\n",
    "\n",
    "# Convert matrix indices to actual movie IDs\n",
    "recommended_movie_ids = [movie_id_mapping[idx] for idx in recommended_movie_indices if idx in movie_id_mapping]\n",
    "\n",
    "# Debugging: Print recommended movie IDs\n",
    "print(\"Mapped Movie IDs:\", recommended_movie_ids)"
   ]
  },
  {
   "cell_type": "code",
   "execution_count": 28,
   "id": "8f1ba75b-87fa-4d0b-b8f2-25d6a5bae1f2",
   "metadata": {},
   "outputs": [
    {
     "name": "stdout",
     "output_type": "stream",
     "text": [
      "Top 5 Movie Recommendations: ['Amadeus (1984)' 'Flight of the Navigator (1986)'\n",
      " 'Living Out Loud (1998)'\n",
      " 'Cats & Dogs: The Revenge of Kitty Galore (2010)'\n",
      " 'The Angry Breed (1968)']\n"
     ]
    }
   ],
   "source": [
    "# Convert movieId column to the same type as recommended_movie_ids\n",
    "df['movieId'] = df['movieId'].astype(int)  # Ensure movieId is integer\n",
    "recommended_movies = df[df['movieId'].isin(recommended_movie_ids)]['title'].unique()\n",
    "\n",
    "print(\"Top 5 Movie Recommendations:\", recommended_movies)"
   ]
  },
  {
   "cell_type": "code",
   "execution_count": null,
   "id": "6b7b252e-fc04-4f96-b7f5-a6d2b7cd2ccd",
   "metadata": {},
   "outputs": [],
   "source": []
  }
 ],
 "metadata": {
  "kernelspec": {
   "display_name": "Python 3 (ipykernel)",
   "language": "python",
   "name": "python3"
  },
  "language_info": {
   "codemirror_mode": {
    "name": "ipython",
    "version": 3
   },
   "file_extension": ".py",
   "mimetype": "text/x-python",
   "name": "python",
   "nbconvert_exporter": "python",
   "pygments_lexer": "ipython3",
   "version": "3.13.2"
  }
 },
 "nbformat": 4,
 "nbformat_minor": 5
}
